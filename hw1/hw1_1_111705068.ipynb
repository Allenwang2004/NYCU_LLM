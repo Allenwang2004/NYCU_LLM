{
 "cells": [
  {
   "cell_type": "markdown",
   "id": "662de657",
   "metadata": {},
   "source": [
    "## N-gram language model\n",
    "\n",
    "### Training Process\n",
    "1.\tpreprocess_text: Preprocesses the text by splitting it into individual lowercase words.\n",
    "2.\tUpdate Vocabulary: Expands the vocabulary with newly encountered words.\n",
    "3.\tadd_sentence_markers: Adds start and end markers to each sentence.\n",
    "4.\tget_ngrams and get_contexts: Extracts N-grams and their corresponding contexts (essentially the N-gram minus the last word).\n",
    "\n",
    "### Generation Process\n",
    "1.\tCalculate the probabilities of all N-grams that match the given context.\n",
    "2.\tSelect the word with the highest probability as the next predicted word.\n",
    "\n",
    "### Additional Notes\n",
    "\n",
    "Since N-grams follow the Markov process, the probability of an entire sentence can be computed. Based on this, the model’s perplexity can also be calculated to evaluate its performance.\n"
   ]
  },
  {
   "cell_type": "code",
   "execution_count": 57,
   "id": "923bf75e",
   "metadata": {},
   "outputs": [],
   "source": [
    "import re\n",
    "import math\n",
    "from collections import defaultdict, Counter\n",
    "from typing import List, Tuple, Dict\n",
    "import logging\n",
    "import time\n",
    "import random\n",
    "import os\n",
    "\n",
    "class NGramModel:\n",
    "    def __init__(self, n: int = 2):\n",
    "        self.n = n\n",
    "        self.ngram_counts = defaultdict(int)  # n-gram計數\n",
    "        self.context_counts = defaultdict(int)  # (n-1)-gram計數\n",
    "        self.vocabulary = set()  # 詞彙表\n",
    "        self.total_words = 0\n",
    "        \n",
    "        self.start_token = \"<s>\"\n",
    "        self.end_token = \"</s>\"\n",
    "        self.unk_token = \"<unk>\"\n",
    "    \n",
    "    def preprocess_text(self, text: str) -> List[str]:\n",
    "        text = text.lower()\n",
    "        words = re.findall(r'\\b\\w+\\b|[.!?]', text)\n",
    "        return words\n",
    "    \n",
    "    def add_sentence_markers(self, words: List[str]) -> List[str]:\n",
    "        start_markers = [self.start_token] * (self.n - 1)\n",
    "        return start_markers + words + [self.end_token]\n",
    "    \n",
    "    def get_ngrams(self, words: List[str]) -> List[Tuple[str, ...]]:\n",
    "        ngrams = []\n",
    "        for i in range(len(words) - self.n + 1):\n",
    "            ngram = tuple(words[i:i + self.n])\n",
    "            ngrams.append(ngram)\n",
    "        return ngrams\n",
    "    \n",
    "    def get_contexts(self, words: List[str]) -> List[Tuple[str, ...]]:\n",
    "        contexts = []\n",
    "        for i in range(len(words) - self.n + 1):\n",
    "            context = tuple(words[i:i + self.n - 1])\n",
    "            contexts.append(context)\n",
    "        return contexts\n",
    "    \n",
    "    def train(self, train_file: str):\n",
    "        print(f\"Start training {self.n}-gram model...\")\n",
    "        \n",
    "        line_count = 0\n",
    "        with open(train_file, 'r', encoding='utf-8') as f:\n",
    "            for line in f:\n",
    "                line = line.strip()\n",
    "                if not line:\n",
    "                    continue\n",
    "                \n",
    "                words = self.preprocess_text(line)\n",
    "                if len(words) == 0:\n",
    "                    continue\n",
    "\n",
    "                self.vocabulary.update(words)\n",
    "                self.total_words += len(words)\n",
    "                \n",
    "                words_with_markers = self.add_sentence_markers(words)\n",
    "                \n",
    "                ngrams = self.get_ngrams(words_with_markers)\n",
    "                contexts = self.get_contexts(words_with_markers)\n",
    "                \n",
    "                for ngram in ngrams:\n",
    "                    self.ngram_counts[ngram] += 1\n",
    "                \n",
    "                for context in contexts:\n",
    "                    self.context_counts[context] += 1\n",
    "\n",
    "        print(f\"Training completed!\")\n",
    "        print(f\"Total words: {self.total_words}\")\n",
    "        print(f\"Vocabulary size: {len(self.vocabulary)}\")\n",
    "        print(f\"N-gram total: {len(self.ngram_counts)}\")\n",
    "        print(f\"Context total: {len(self.context_counts)}\")\n",
    "\n",
    "    def get_probability(self, ngram: Tuple[str, ...]) -> float:\n",
    "        if len(ngram) != self.n:\n",
    "            raise ValueError(f\"N-gram長度應為 {self.n}\")\n",
    "        \n",
    "        context = ngram[:-1]\n",
    "        \n",
    "        if self.context_counts[context] == 0:\n",
    "            return 1e-10 \n",
    "        \n",
    "        return self.ngram_counts[ngram] / self.context_counts[context]\n",
    "    \n",
    "    def get_sentence_probability(self, sentence: str) -> float:\n",
    "        words = self.preprocess_text(sentence)\n",
    "        if len(words) == 0:\n",
    "            return float('-inf')\n",
    "        \n",
    "        words_with_markers = self.add_sentence_markers(words)\n",
    "        ngrams = self.get_ngrams(words_with_markers)\n",
    "        \n",
    "        log_prob = 0.0\n",
    "        for ngram in ngrams:\n",
    "            prob = self.get_probability(ngram)\n",
    "            if prob > 0:\n",
    "                log_prob += math.log(prob)\n",
    "            else:\n",
    "                log_prob += math.log(1e-10)\n",
    "        \n",
    "        return log_prob\n",
    "    \n",
    "    def calculate_perplexity(self, test_file: str) -> float:\n",
    "        print(f\"Calculating {self.n}-gram model perplexity...\")\n",
    "        \n",
    "        total_log_prob = 0.0\n",
    "        total_words = 0\n",
    "        \n",
    "        with open(test_file, 'r', encoding='utf-8') as f:\n",
    "            for line in f:\n",
    "                line = line.strip()\n",
    "                if not line:\n",
    "                    continue\n",
    "                \n",
    "                words = self.preprocess_text(line)\n",
    "                if len(words) == 0:\n",
    "                    continue\n",
    "                \n",
    "                log_prob = self.get_sentence_probability(line)\n",
    "                total_log_prob += log_prob\n",
    "                total_words += len(words)\n",
    "                \n",
    "        avg_log_prob = total_log_prob / total_words\n",
    "        perplexity = math.exp(-avg_log_prob)\n",
    "        \n",
    "        print(f\"測試集總詞數: {total_words}\")\n",
    "        print(f\"平均對數概率: {avg_log_prob:.6f}\")\n",
    "        print(f\"{self.n}-gram 困惑度: {perplexity:.2f}\")\n",
    "        \n",
    "        return perplexity\n",
    "    \n",
    "    def calculate_accuracy(self, test_file: str) -> float:\n",
    "        print(f\"Calculating {self.n}-gram model accuracy...\")\n",
    "        \n",
    "        correct_predictions = 0\n",
    "        total_predictions = 0\n",
    "        \n",
    "        with open(test_file, 'r', encoding='utf-8') as f:\n",
    "            count = 0\n",
    "            for line in f:\n",
    "                line = line.strip()\n",
    "                if not line:\n",
    "                    continue\n",
    "                \n",
    "                words = self.preprocess_text(line)\n",
    "                if len(words) < self.n:\n",
    "                    continue\n",
    "                \n",
    "                words_with_markers = self.add_sentence_markers(words)\n",
    "                \n",
    "                for i in range(self.n - 1, len(words_with_markers)):\n",
    "                    count += 1\n",
    "                    if count > 10000:\n",
    "                        break\n",
    "\n",
    "                    context = tuple(words_with_markers[i - self.n + 1:i])\n",
    "\n",
    "                    actual_word = words_with_markers[i]\n",
    "\n",
    "                    predicted_word = self.predict_next_word(context)\n",
    "                    \n",
    "                    if predicted_word == actual_word:\n",
    "                        correct_predictions += 1\n",
    "                    total_predictions += 1\n",
    "                \n",
    "        accuracy = correct_predictions / total_predictions\n",
    "        \n",
    "        print(f\"正確預測數: {correct_predictions}\")\n",
    "        print(f\"總預測數: {total_predictions}\")\n",
    "        print(f\"{self.n}-gram 準確率: {accuracy:.4f} ({accuracy*100:.2f}%)\")\n",
    "        \n",
    "        return accuracy\n",
    "    \n",
    "    def predict_next_word(self, context: Tuple[str, ...]) -> str:\n",
    "        if len(context) != self.n - 1:\n",
    "            raise ValueError(f\"Context 長度應為 {self.n - 1}\")\n",
    "        \n",
    "        candidate_ngrams = []\n",
    "        for ngram in self.ngram_counts:\n",
    "            if ngram[:-1] == context:\n",
    "                probability = self.get_probability(ngram)\n",
    "                candidate_ngrams.append((ngram[-1], probability))\n",
    "        \n",
    "        if not candidate_ngrams:\n",
    "            return self.unk_token\n",
    "        \n",
    "        best_word = max(candidate_ngrams, key=lambda x: x[1])[0]\n",
    "        return best_word\n",
    "    \n",
    "    def generate_text(self, context: Tuple[str, ...], max_length: int = 20) -> str:\n",
    "\n",
    "        if len(context) != self.n - 1:\n",
    "            raise ValueError(f\"Context長度應為 {self.n - 1}\")\n",
    "        \n",
    "        result = list(context)\n",
    "        current_context = context\n",
    "        \n",
    "        for _ in range(max_length):\n",
    "            candidates = []\n",
    "            for ngram, count in self.ngram_counts.items():\n",
    "                if ngram[:-1] == current_context:\n",
    "                    candidates.extend([ngram[-1]] * count)\n",
    "\n",
    "            if not candidates:\n",
    "                break \n",
    "            \n",
    "            candidates = [word for word in candidates if word != self.end_token]\n",
    "\n",
    "            next_word = random.choice(candidates)\n",
    "            \n",
    "            result.append(next_word)\n",
    "            current_context = tuple(result[-(self.n-1):])\n",
    "        \n",
    "        filtered_result = [word for word in result if word != self.start_token]\n",
    "        return ' '.join(filtered_result)"
   ]
  },
  {
   "cell_type": "markdown",
   "id": "dbe8a984",
   "metadata": {},
   "source": [
    "## N-gram training"
   ]
  },
  {
   "cell_type": "code",
   "execution_count": null,
   "id": "79697132",
   "metadata": {},
   "outputs": [
    {
     "name": "stdout",
     "output_type": "stream",
     "text": [
      "============================================================\n",
      "N-gram model Training and Evaluation\n",
      "============================================================\n",
      "\n",
      "==================== N=2 (Bigram) ====================\n",
      "Train 2-gram model...\n",
      "Start training 2-gram model...\n",
      "Training completed!\n",
      "Total words: 17728510\n",
      "Vocabulary size: 38404\n",
      "N-gram total: 660108\n",
      "Context total: 38405\n",
      "Training time: 12.00 seconds\n",
      "Calculating 2-gram model perplexity...\n",
      "測試集總詞數: 4420449\n",
      "平均對數概率: -4.562487\n",
      "2-gram 困惑度: 95.82\n",
      "Calculating 2-gram model accuracy...\n",
      "正確預測數: 2707\n",
      "總預測數: 10000\n",
      "2-gram 準確率: 0.2707 (27.07%)\n",
      "Testing time: 313.57 seconds\n",
      "Accuracy: 0.2707 (27.07%)\n",
      "\n",
      "2-gram model text generation examples:\n",
      "  Context: add -> add very hot chocolate begins to pan and carrots are traditionally served warm it is just\n",
      "  Context: cook -> cook until lightly greased 13x9 pan with salt and french bread pulls away from under cold\n",
      "  Context: bake -> bake for the skin is best flavour of the bread crumb mixture into chops are not\n",
      "\n",
      "==================== N=3 (Trigram) ====================\n",
      "Train 3-gram model...\n",
      "Start training 3-gram model...\n",
      "Training completed!\n",
      "Total words: 17728510\n",
      "Vocabulary size: 38404\n",
      "N-gram total: 2573019\n",
      "Context total: 643488\n",
      "Training time: 17.45 seconds\n",
      "Calculating 3-gram model perplexity...\n",
      "測試集總詞數: 4420449\n",
      "平均對數概率: -5.177542\n",
      "3-gram 困惑度: 177.25\n",
      "Calculating 3-gram model accuracy...\n",
      "正確預測數: 3412\n",
      "總預測數: 10000\n",
      "3-gram 準確率: 0.3412 (34.12%)\n",
      "Testing time: 1157.91 seconds\n",
      "Accuracy: 0.3412 (34.12%)\n",
      "\n",
      "3-gram model text generation examples:\n",
      "  Context: add the -> add the flour and cook 10 12 balls from each ear in 3 batches of 10 minutes\n",
      "  Context: cook for -> cook for 4 5 minutes until pineapple is showing and no longer pink in center of each\n",
      "  Context: bake at -> bake at 350f for 1 1 2 bottles of dressing for the corned beef overlap the sides\n",
      "\n",
      "============================================================\n",
      "Results Comparison\n",
      "============================================================\n",
      "Metric               Bigram (n=2)    Trigram (n=3)   Difference     \n",
      "-----------------------------------------------------------------\n",
      "Perplexity           95.82           177.25          +84.98%\n",
      "Accuracy             0.2707          0.3412          +26.04%\n",
      "Training time        12.00           17.45           +45.44%\n",
      "N-gram types         742,015         2,896,633       +290.37%\n",
      "Vocabulary size      38,404          38,404          Same           \n",
      "Total words          17,728,510      17,728,510      Same           \n"
     ]
    }
   ],
   "source": [
    "train_file = \"data/train.txt\"\n",
    "test_file = \"data/test.txt\"\n",
    "\n",
    "print(\"=\" * 60)\n",
    "print(\"N-gram model Training and Evaluation\")\n",
    "print(\"=\" * 60)\n",
    "\n",
    "results = {}\n",
    "trained_models = {}  # Store trained models for text generation\n",
    "\n",
    "for n in [2, 3]:\n",
    "    print(f\"\\n{'='*20} N={n} ({'Bigram' if n==2 else 'Trigram'}) {'='*20}\")\n",
    "    \n",
    "    start_time = time.time()\n",
    "\n",
    "    model = NGramModel(n=n)\n",
    "\n",
    "    print(f\"Train {n}-gram model...\")\n",
    "    model.train(train_file)\n",
    "    \n",
    "    training_time = time.time() - start_time\n",
    "    print(f\"Training time: {training_time:.2f} seconds\")\n",
    "\n",
    "    # Calculate perplexity and accuracy\n",
    "    start_time = time.time()\n",
    "    perplexity = model.calculate_perplexity(test_file)\n",
    "    accuracy = model.calculate_accuracy(test_file)\n",
    "    test_time = time.time() - start_time\n",
    "\n",
    "    print(f\"Testing time: {test_time:.2f} seconds\")\n",
    "    print(f\"Accuracy: {accuracy:.4f} ({accuracy*100:.2f}%)\")\n",
    "    \n",
    "    # save results and model\n",
    "    results[n] = {\n",
    "        'perplexity': perplexity,\n",
    "        'accuracy': accuracy,\n",
    "        'training_time': training_time,\n",
    "        'test_time': test_time,\n",
    "        'vocab_size': len(model.vocabulary),\n",
    "        'total_words': model.total_words,\n",
    "        'ngram_types': len(model.ngram_counts),\n",
    "        'context_types': len(model.context_counts)\n",
    "    }\n",
    "    trained_models[n] = model  # Store the trained model\n",
    "\n",
    "    print(f\"\\n{n}-gram model text generation examples:\")\n",
    "    try:\n",
    "        if n == 2:\n",
    "            contexts = [(\"add\",), (\"cook\",), (\"bake\",)]\n",
    "        else:\n",
    "            contexts = [(\"add\", \"the\"), (\"cook\", \"for\"), (\"bake\", \"at\")]\n",
    "        \n",
    "        for context in contexts:\n",
    "            generated = model.generate_text(context, max_length=15)\n",
    "            print(f\"  Context: {' '.join(context)} -> {generated}\")\n",
    "    except Exception as e:\n",
    "        print(f\"  Error occurred during text generation: {e}\")\n",
    "\n",
    "# Results comparison\n",
    "print(\"\\n\" + \"=\" * 60)\n",
    "print(\"Results Comparison\")\n",
    "print(\"=\" * 60)\n",
    "\n",
    "print(f\"{'Metric':<20} {'Bigram (n=2)':<15} {'Trigram (n=3)':<15} {'Difference':<15}\")\n",
    "print(\"-\" * 65)\n",
    "\n",
    "bigram_pp = results[2]['perplexity']\n",
    "trigram_pp = results[3]['perplexity']\n",
    "pp_diff = ((trigram_pp - bigram_pp) / bigram_pp) * 100\n",
    "\n",
    "print(f\"{'Perplexity':<20} {bigram_pp:<15.2f} {trigram_pp:<15.2f} {pp_diff:+.2f}%\")\n",
    "\n",
    "bigram_acc = results[2]['accuracy']\n",
    "trigram_acc = results[3]['accuracy']\n",
    "acc_diff = ((trigram_acc - bigram_acc) / bigram_acc) * 100\n",
    "\n",
    "print(f\"{'Accuracy':<20} {bigram_acc:<15.4f} {trigram_acc:<15.4f} {acc_diff:+.2f}%\")\n",
    "\n",
    "bigram_time = results[2]['training_time']\n",
    "trigram_time = results[3]['training_time']\n",
    "time_diff = ((trigram_time - bigram_time) / bigram_time) * 100\n",
    "\n",
    "print(f\"{'Training time':<20} {bigram_time:<15.2f} {trigram_time:<15.2f} {time_diff:+.2f}%\")\n",
    "\n",
    "bigram_ngrams = results[2]['ngram_types']  \n",
    "trigram_ngrams = results[3]['ngram_types']\n",
    "ngram_diff = ((trigram_ngrams - bigram_ngrams) / bigram_ngrams) * 100\n",
    "\n",
    "print(f\"{'N-gram types':<20} {bigram_ngrams:<15,} {trigram_ngrams:<15,} {ngram_diff:+.2f}%\")\n",
    "\n",
    "print(f\"{'Vocabulary size':<20} {results[2]['vocab_size']:<15,} {results[3]['vocab_size']:<15,} {'Same':<15}\")\n",
    "print(f\"{'Total words':<20} {results[2]['total_words']:<15,} {results[3]['total_words']:<15,} {'Same':<15}\")"
   ]
  },
  {
   "cell_type": "markdown",
   "id": "e829fd50",
   "metadata": {},
   "source": [
    "### Question: Use n= 2 and n= 3 to calculate bigrams and trigrams, respectively, and evaluatethe test accuracy in test.txt and make some discussion.\n",
    "Based on the results, the trigram model demonstrates better predictive performance than the bigram model. However, it also shows a higher perplexity. This can be explained by the fact that the trigram model contains a greater variety of N-gram types, resulting in lower individual N-gram probabilities and thus a lower overall sentence probability, which in turn increases the perplexity."
   ]
  },
  {
   "cell_type": "markdown",
   "id": "147730c5",
   "metadata": {},
   "source": [
    "### Question: Please observe the hardware usage in your computer while the models are running and make some discussion.\n",
    "\n",
    "The 2-gram model consumed approximately 1.0% of memory during training, while the 3-gram model required about 5.7%. This increase in memory usage can be attributed to the substantially larger number of unique N-gram combinations present in the 3-gram model."
   ]
  },
  {
   "cell_type": "markdown",
   "id": "4f242a24",
   "metadata": {},
   "source": [
    "## Complete the incomplete.txt"
   ]
  },
  {
   "cell_type": "code",
   "execution_count": 28,
   "id": "eb009aa5",
   "metadata": {},
   "outputs": [
    {
     "name": "stdout",
     "output_type": "stream",
     "text": [
      "  'cover with' -> 'cover with aluminum foil and continue to set them on the pot to high and are ready to serve this with frozen'\n",
      "  'roll up' -> 'roll up a day ahead and kept chilled in an 8x11 inch baking pan with cooking spray in an oven tray brushed'\n",
      "  'cook the' -> 'cook the spinach mixture over dough rectangles with cheese and mint along the edge of the pan so nothing gets cold !'\n",
      "  'stir in' -> 'stir in creamed mixture just enough to handle the dough from greased slotted spoon to scrape out the insides into a greased'\n",
      "  'spread out' -> 'spread out on flat ends on kitchen paper and butter until creamy and soft scrambled eggs into the center comes out clean'\n",
      "  'transfer the' -> 'transfer the pan with parchment paper or in a smaller bowl combine flour with a fork slightly puncture the peppers to a'\n",
      "  'put the' -> 'put the cheese melts and sugar on the rim of the ricotta mix on high until sugar is dissolved and the onions'\n",
      "  'push the' -> 'push the batter will be thick enough to maintain a chocolate wafer crust and return to a boil over medium heat until'\n",
      "  'cut into' -> 'cut into squares or use your favourite garnish and serve slightly warm milk into the rice in a small mixing bowl and'\n",
      "  'toss the' -> 'toss the salad greens between 6 bowls and serve with the back of a double boiler 3 squares semi sweet chocolate in'\n"
     ]
    }
   ],
   "source": [
    "# Test with incomplete.txt for text completion\n",
    "with open(\"data/incomplete.txt\", \"r\", encoding=\"utf-8\") as f:\n",
    "    incomplete_lines = [line.strip() for line in f if line.strip()]\n",
    "\n",
    "for i, incomplete_text in enumerate(incomplete_lines):\n",
    "    words = model.preprocess_text(incomplete_text)\n",
    "    context = (words[-2], words[-1])\n",
    "    # Generate completion\n",
    "    completion = model.generate_text(context, max_length=20)\n",
    "    # Remove the context words from completion to show only new words\n",
    "    context_str = ' '.join(context)\n",
    "    new_words = completion[len(context_str):].strip()    \n",
    "    full_completion = incomplete_text + \" \" + new_words\n",
    "    print(f\"  '{incomplete_text}' -> '{full_completion}'\")"
   ]
  },
  {
   "cell_type": "markdown",
   "id": "ac56aa64",
   "metadata": {},
   "source": [
    "# RNN and LSTM model"
   ]
  },
  {
   "cell_type": "code",
   "execution_count": 58,
   "id": "ee984be8",
   "metadata": {},
   "outputs": [],
   "source": [
    "import torch\n",
    "import torch.nn as nn\n",
    "import torch.optim as optim\n",
    "from torch.utils.data import Dataset, DataLoader\n",
    "import numpy as np\n",
    "import re\n",
    "from collections import Counter, defaultdict\n",
    "import time\n",
    "from typing import List, Tuple, Dict\n",
    "import os\n",
    "import matplotlib.pyplot as plt\n",
    "import math\n",
    "from tqdm import tqdm"
   ]
  },
  {
   "cell_type": "markdown",
   "id": "0b718c8d",
   "metadata": {},
   "source": [
    "## Vocabulary"
   ]
  },
  {
   "cell_type": "code",
   "execution_count": 59,
   "id": "aa2bfe79",
   "metadata": {},
   "outputs": [],
   "source": [
    "class Vocabulary:\n",
    "    \n",
    "    def __init__(self):\n",
    "        self.word2idx = {}\n",
    "        self.idx2word = {}\n",
    "        self.word_count = Counter()\n",
    "        \n",
    "        # 特殊標記\n",
    "        self.pad_token = '<PAD>'\n",
    "        self.unk_token = '<UNK>'\n",
    "        self.start_token = '<START>'\n",
    "        self.end_token = '<END>'\n",
    "        \n",
    "        # 初始化特殊標記\n",
    "        self.add_word(self.pad_token)\n",
    "        self.add_word(self.unk_token)\n",
    "        self.add_word(self.start_token)\n",
    "        self.add_word(self.end_token)\n",
    "        \n",
    "    def add_word(self, word: str) -> int:\n",
    "        \"\"\"添加詞彙到詞彙表\"\"\"\n",
    "        if word not in self.word2idx:\n",
    "            idx = len(self.word2idx)\n",
    "            self.word2idx[word] = idx\n",
    "            self.idx2word[idx] = word\n",
    "        self.word_count[word] += 1\n",
    "        return self.word2idx[word]\n",
    "    \n",
    "    def build_vocab(self, texts: List[str], min_freq: int = 2):\n",
    "        \"\"\"建立詞彙表\"\"\"\n",
    "        print(\"Building vocabulary...\")\n",
    "        \n",
    "        # 統計詞頻\n",
    "        for text in texts:\n",
    "            words = self.preprocess_text(text)\n",
    "            for word in words:\n",
    "                self.word_count[word] += 1\n",
    "        \n",
    "        # 添加高頻詞到詞彙表\n",
    "        for word, count in self.word_count.items():\n",
    "            if count >= min_freq and word not in self.word2idx:\n",
    "                self.add_word(word)\n",
    "        \n",
    "        print(f\"Vocabulary size: {len(self.word2idx)}\")\n",
    "        print(f\"Most common words: {self.word_count.most_common(10)}\")\n",
    "    \n",
    "    def preprocess_text(self, text: str) -> List[str]:\n",
    "        \"\"\"文本預處理\"\"\"\n",
    "        text = text.lower().strip()\n",
    "        words = re.findall(r'\\b\\w+\\b', text)\n",
    "        return words\n",
    "    \n",
    "    def text_to_indices(self, text: str) -> List[int]:\n",
    "        words = self.preprocess_text(text)\n",
    "        indices = [self.word2idx[self.start_token]]\n",
    "        \n",
    "        for word in words:\n",
    "            if word in self.word2idx:\n",
    "                indices.append(self.word2idx[word])\n",
    "            else:\n",
    "                indices.append(self.word2idx[self.unk_token])\n",
    "        \n",
    "        indices.append(self.word2idx[self.end_token])\n",
    "        return indices\n",
    "    \n",
    "    def indices_to_text(self, indices: List[int]) -> str:\n",
    "        words = []\n",
    "        for idx in indices:\n",
    "            if idx in self.idx2word:\n",
    "                word = self.idx2word[idx]\n",
    "                if word not in [self.pad_token, self.start_token, self.end_token]:\n",
    "                    words.append(word)\n",
    "        return ' '.join(words)\n",
    "    \n",
    "    def __len__(self):\n",
    "        return len(self.word2idx)"
   ]
  },
  {
   "cell_type": "markdown",
   "id": "10e18851",
   "metadata": {},
   "source": [
    "## TextDataset"
   ]
  },
  {
   "cell_type": "code",
   "execution_count": 60,
   "id": "f58ec90c",
   "metadata": {},
   "outputs": [],
   "source": [
    "class TextDataset(Dataset):\n",
    "    \"\"\"文本數據集類別\"\"\"\n",
    "    \n",
    "    def __init__(self, texts: List[str], vocab: Vocabulary, seq_length: int = 10):\n",
    "        self.vocab = vocab\n",
    "        self.seq_length = seq_length\n",
    "        self.sequences = []\n",
    "        \n",
    "        self.prepare_sequences(texts)\n",
    "    \n",
    "    def prepare_sequences(self, texts: List[str]):\n",
    "        \"\"\"準備訓練序列\"\"\"\n",
    "        print(\"Preparing training sequences...\")\n",
    "        \n",
    "        for text in texts:\n",
    "            indices = self.vocab.text_to_indices(text)\n",
    "            \n",
    "            # 如果序列太短，跳過\n",
    "            if len(indices) < 2:\n",
    "                continue\n",
    "\n",
    "            # 限制總 sequence 數量\n",
    "            if len(self.sequences) >= 100000:\n",
    "                break\n",
    "            \n",
    "            # 創建滑動窗口序列\n",
    "            for i in range(len(indices) - 1):\n",
    "                # 輸入序列和目標序列\n",
    "                input_seq = indices[max(0, i - self.seq_length + 1):i + 1]\n",
    "                target = indices[i + 1]\n",
    "                \n",
    "                # 填充到固定長度\n",
    "                if len(input_seq) < self.seq_length:\n",
    "                    padding = [self.vocab.word2idx[self.vocab.pad_token]] * (self.seq_length - len(input_seq))\n",
    "                    input_seq = padding + input_seq\n",
    "                \n",
    "                self.sequences.append((input_seq, target))\n",
    "        \n",
    "        print(f\"Created {len(self.sequences)} training sequences\")\n",
    "    \n",
    "    def __len__(self):\n",
    "        return len(self.sequences)\n",
    "    \n",
    "    def __getitem__(self, idx):\n",
    "        input_seq, target = self.sequences[idx]\n",
    "        return torch.tensor(input_seq, dtype=torch.long), torch.tensor(target, dtype=torch.long)"
   ]
  },
  {
   "cell_type": "markdown",
   "id": "1c77e707",
   "metadata": {},
   "source": [
    "## RNN LanguageModel and Trainer"
   ]
  },
  {
   "cell_type": "code",
   "execution_count": 61,
   "id": "c466d24a",
   "metadata": {},
   "outputs": [],
   "source": [
    "class RNNLanguageModel(nn.Module):\n",
    "\n",
    "    def __init__(self, vocab_size: int, embed_dim: int = 128, hidden_dim: int = 128, \n",
    "                 num_layers: int = 2, dropout: float = 0.2):\n",
    "        super(RNNLanguageModel, self).__init__()\n",
    "        \n",
    "        self.vocab_size = vocab_size\n",
    "        self.embed_dim = embed_dim\n",
    "        self.hidden_dim = hidden_dim\n",
    "        self.num_layers = num_layers\n",
    "        \n",
    "        self.embedding = nn.Embedding(vocab_size, embed_dim)\n",
    "        \n",
    "        self.rnn = nn.RNN(embed_dim, hidden_dim, num_layers, \n",
    "                         batch_first=True, dropout=dropout if num_layers > 1 else 0)\n",
    "        \n",
    "        self.dropout = nn.Dropout(dropout)\n",
    "        self.linear = nn.Linear(hidden_dim, vocab_size)\n",
    "        self.init_weights()\n",
    "    \n",
    "    def init_weights(self):\n",
    "        init_range = 0.1\n",
    "        self.embedding.weight.data.uniform_(-init_range, init_range)\n",
    "        self.linear.bias.data.zero_()\n",
    "        self.linear.weight.data.uniform_(-init_range, init_range)\n",
    "    \n",
    "    def forward(self, x, hidden=None):\n",
    "        batch_size = x.size(0)\n",
    "        \n",
    "        embedded = self.embedding(x)  # (batch_size, seq_len, embed_dim)\n",
    "        rnn_out, hidden = self.rnn(embedded, hidden)  # (batch_size, seq_len, hidden_dim)\n",
    "        last_output = rnn_out[:, -1, :]  # (batch_size, hidden_dim)\n",
    "        output = self.dropout(last_output)\n",
    "        output = self.linear(output)  # (batch_size, vocab_size)\n",
    "        return output, hidden\n",
    "    \n",
    "    def init_hidden(self, batch_size, device):\n",
    "        return torch.zeros(self.num_layers, batch_size, self.hidden_dim).to(device)\n",
    "\n",
    "class RNNTrainer:\n",
    "    \n",
    "    def __init__(self, model, vocab, device, learning_rate: float = 0.001):\n",
    "        self.model = model\n",
    "        self.vocab = vocab\n",
    "        self.device = device\n",
    "        \n",
    "        self.criterion = nn.CrossEntropyLoss(ignore_index=vocab.word2idx[vocab.pad_token])\n",
    "        self.optimizer = optim.Adam(model.parameters(), lr=learning_rate)\n",
    "        \n",
    "        self.train_losses = []\n",
    "        self.train_accuracies = []\n",
    "        \n",
    "    def train_epoch(self, dataloader):\n",
    "        self.model.train()\n",
    "        total_loss = 0\n",
    "        total_samples = 0\n",
    "        correct_predictions = 0\n",
    "        \n",
    "        pbar = tqdm(dataloader, desc=\"Training\", leave=False)\n",
    "        \n",
    "        for batch_idx, (data, targets) in enumerate(pbar):\n",
    "            data, targets = data.to(self.device), targets.to(self.device)\n",
    "            batch_size = data.size(0)\n",
    "            \n",
    "            hidden = self.model.init_hidden(batch_size, self.device)\n",
    "            \n",
    "            outputs, _ = self.model(data, hidden)\n",
    "            loss = self.criterion(outputs, targets)\n",
    "            \n",
    "            _, predicted = torch.max(outputs.data, 1)\n",
    "            correct_predictions += (predicted == targets).sum().item()\n",
    "            \n",
    "            self.optimizer.zero_grad()\n",
    "            loss.backward()\n",
    "            \n",
    "            torch.nn.utils.clip_grad_norm_(self.model.parameters(), max_norm=5.0)\n",
    "            \n",
    "            self.optimizer.step()\n",
    "            \n",
    "            total_loss += loss.item() * batch_size\n",
    "            total_samples += batch_size\n",
    "            \n",
    "            current_loss = total_loss / total_samples\n",
    "            current_acc = correct_predictions / total_samples\n",
    "            pbar.set_postfix({\n",
    "                'Loss': f'{current_loss:.4f}',\n",
    "                'Acc': f'{current_acc:.4f}'\n",
    "            })\n",
    "\n",
    "        \n",
    "        avg_loss = total_loss / total_samples\n",
    "        accuracy = correct_predictions / total_samples\n",
    "        \n",
    "        self.train_losses.append(avg_loss)\n",
    "        self.train_accuracies.append(accuracy)\n",
    "        \n",
    "        return avg_loss, accuracy\n",
    "    \n",
    "    def evaluate(self, dataloader):\n",
    "        self.model.eval()\n",
    "        total_loss = 0\n",
    "        total_samples = 0\n",
    "        correct_predictions = 0\n",
    "        \n",
    "        pbar = tqdm(dataloader, desc=\"Evaluating\", leave=False)\n",
    "        \n",
    "        with torch.no_grad():\n",
    "            for data, targets in pbar:\n",
    "                data, targets = data.to(self.device), targets.to(self.device)\n",
    "                batch_size = data.size(0)\n",
    "                \n",
    "                hidden = self.model.init_hidden(batch_size, self.device)\n",
    "                outputs, _ = self.model(data, hidden)\n",
    "                loss = self.criterion(outputs, targets)\n",
    "                \n",
    "                _, predicted = torch.max(outputs.data, 1)\n",
    "                correct_predictions += (predicted == targets).sum().item()\n",
    "                \n",
    "                total_loss += loss.item() * batch_size\n",
    "                total_samples += batch_size\n",
    "                \n",
    "                current_loss = total_loss / total_samples\n",
    "                current_acc = correct_predictions / total_samples\n",
    "                pbar.set_postfix({\n",
    "                    'Loss': f'{current_loss:.4f}',\n",
    "                    'Acc': f'{current_acc:.4f}'\n",
    "                })\n",
    "        \n",
    "        avg_loss = total_loss / total_samples\n",
    "        accuracy = correct_predictions / total_samples\n",
    "\n",
    "        entropy = avg_loss / math.log(2)\n",
    "        perplexity = 2 ** entropy\n",
    "        \n",
    "        return avg_loss, accuracy, perplexity\n",
    "    \n",
    "    def generate_text(self, start_text: str, max_length: int = 10, temperature: float = 1.0):\n",
    "        self.model.eval()\n",
    "        \n",
    "        # 預處理起始文本\n",
    "        indices = self.vocab.text_to_indices(start_text)\n",
    "        indices = indices[:-1]\n",
    "\n",
    "        if len(indices) == 0:\n",
    "            indices = [self.vocab.word2idx[self.vocab.start_token]]\n",
    "        \n",
    "        generated = indices.copy()\n",
    "\n",
    "        end_idx = self.vocab.word2idx[self.vocab.end_token]\n",
    "        \n",
    "        with torch.no_grad():\n",
    "            for _ in range(max_length-3):\n",
    "                input_seq = generated[-10:]\n",
    "                if len(input_seq) < 10:\n",
    "                    padding = [self.vocab.word2idx[self.vocab.pad_token]] * (10 - len(input_seq))\n",
    "                    input_seq = padding + input_seq\n",
    "                \n",
    "                input_tensor = torch.tensor([input_seq], dtype=torch.long).to(self.device)\n",
    "                hidden = self.model.init_hidden(1, self.device)\n",
    "\n",
    "                outputs, _ = self.model(input_tensor, hidden)\n",
    "\n",
    "                outputs[:, end_idx] = float('-inf')\n",
    "\n",
    "\n",
    "                outputs = outputs / temperature\n",
    "                probabilities = torch.softmax(outputs, dim=-1)\n",
    "                \n",
    "                next_word_idx = torch.multinomial(probabilities, 1).item()\n",
    "\n",
    "                generated.append(next_word_idx)\n",
    "        \n",
    "        return self.vocab.indices_to_text(generated)\n",
    "    \n",
    "    def plot_learning_curves(self, save_path='rnn_learning_curves.png'):\n",
    "        fig, (ax1, ax2) = plt.subplots(1, 2, figsize=(15, 5))\n",
    "        \n",
    "        epochs = range(1, len(self.train_losses) + 1)\n",
    "        ax1.plot(epochs, self.train_losses, 'b-', label='Training Loss')\n",
    "        ax1.set_title('Training Loss Curve')\n",
    "        ax1.set_xlabel('Epoch')\n",
    "        ax1.set_ylabel('Loss')\n",
    "        ax1.legend()\n",
    "        ax1.grid(True)\n",
    "        \n",
    "        ax2.plot(epochs, self.train_accuracies, 'r-', label='Training Accuracy')\n",
    "        ax2.set_title('Training Accuracy Curve')\n",
    "        ax2.set_xlabel('Epoch')\n",
    "        ax2.set_ylabel('Accuracy')\n",
    "        ax2.legend()\n",
    "        ax2.grid(True)\n",
    "        \n",
    "        plt.tight_layout()\n",
    "        plt.savefig(save_path, dpi=300, bbox_inches='tight')\n",
    "        plt.show()\n",
    "        print(f\"Learning curves saved to {save_path}\")"
   ]
  },
  {
   "cell_type": "markdown",
   "id": "d8363fd5",
   "metadata": {},
   "source": [
    "## LSTM Language Model and Trainer"
   ]
  },
  {
   "cell_type": "code",
   "execution_count": 62,
   "id": "00d6980c",
   "metadata": {},
   "outputs": [],
   "source": [
    "class LSTMLanguageModel(nn.Module):\n",
    "    \n",
    "    def __init__(self, vocab_size: int, embed_dim: int = 128, hidden_dim: int = 128, \n",
    "                 num_layers: int = 2, dropout: float = 0.2):\n",
    "        super(LSTMLanguageModel, self).__init__()\n",
    "        \n",
    "        self.vocab_size = vocab_size\n",
    "        self.embed_dim = embed_dim\n",
    "        self.hidden_dim = hidden_dim\n",
    "        self.num_layers = num_layers\n",
    "        \n",
    "        self.embedding = nn.Embedding(vocab_size, embed_dim)\n",
    "        self.lstm = nn.LSTM(embed_dim, hidden_dim, num_layers, \n",
    "                           batch_first=True, dropout=dropout if num_layers > 1 else 0)\n",
    "        self.dropout = nn.Dropout(dropout)\n",
    "        self.linear = nn.Linear(hidden_dim, vocab_size)\n",
    "        self.init_weights()\n",
    "    \n",
    "    def init_weights(self):\n",
    "        init_range = 0.1\n",
    "        self.embedding.weight.data.uniform_(-init_range, init_range)\n",
    "        self.linear.bias.data.zero_()\n",
    "        self.linear.weight.data.uniform_(-init_range, init_range)\n",
    "    \n",
    "    def forward(self, x, hidden=None):\n",
    "        batch_size = x.size(0)\n",
    "        embedded = self.embedding(x)  # (batch_size, seq_len, embed_dim)\n",
    "        lstm_out, hidden = self.lstm(embedded, hidden)  # (batch_size, seq_len, hidden_dim)\n",
    "        last_output = lstm_out[:, -1, :]  # (batch_size, hidden_dim)\n",
    "        output = self.dropout(last_output)\n",
    "        output = self.linear(output)  # (batch_size, vocab_size)\n",
    "        \n",
    "        return output, hidden\n",
    "    \n",
    "    def init_hidden(self, batch_size, device):\n",
    "        h0 = torch.zeros(self.num_layers, batch_size, self.hidden_dim).to(device)\n",
    "        c0 = torch.zeros(self.num_layers, batch_size, self.hidden_dim).to(device)\n",
    "        return (h0, c0)\n",
    "\n",
    "class LSTMTrainer:\n",
    "    \n",
    "    def __init__(self, model, vocab, device):\n",
    "        self.model = model\n",
    "        self.vocab = vocab\n",
    "        self.device = device\n",
    "        \n",
    "        self.criterion = nn.CrossEntropyLoss(ignore_index=vocab.word2idx[vocab.pad_token])\n",
    "        self.optimizer = optim.Adam(model.parameters(), lr=0.001)\n",
    "        \n",
    "        self.train_losses = []\n",
    "        self.train_accuracies = []\n",
    "        \n",
    "    def train_epoch(self, dataloader):\n",
    "        self.model.train()\n",
    "        total_loss = 0\n",
    "        total_samples = 0\n",
    "        correct_predictions = 0\n",
    "        \n",
    "        pbar = tqdm(dataloader, desc=\"Training\", leave=False)\n",
    "        \n",
    "        for batch_idx, (data, targets) in enumerate(pbar):\n",
    "            data, targets = data.to(self.device), targets.to(self.device)\n",
    "            batch_size = data.size(0)\n",
    "            \n",
    "            hidden = self.model.init_hidden(batch_size, self.device)\n",
    "        \n",
    "            outputs, _ = self.model(data, hidden)\n",
    "            loss = self.criterion(outputs, targets)\n",
    "            \n",
    "            _, predicted = torch.max(outputs.data, 1)\n",
    "            correct_predictions += (predicted == targets).sum().item()\n",
    "            \n",
    "            self.optimizer.zero_grad()\n",
    "            loss.backward()\n",
    "            \n",
    "            torch.nn.utils.clip_grad_norm_(self.model.parameters(), max_norm=5.0)\n",
    "            \n",
    "            self.optimizer.step()\n",
    "            \n",
    "            total_loss += loss.item() * batch_size\n",
    "            total_samples += batch_size\n",
    "            \n",
    "            current_loss = total_loss / total_samples\n",
    "            current_acc = correct_predictions / total_samples\n",
    "            pbar.set_postfix({\n",
    "                'Loss': f'{current_loss:.4f}',\n",
    "                'Acc': f'{current_acc:.4f}'\n",
    "            })\n",
    "        \n",
    "        avg_loss = total_loss / total_samples\n",
    "        accuracy = correct_predictions / total_samples\n",
    "        \n",
    "        self.train_losses.append(avg_loss)\n",
    "        self.train_accuracies.append(accuracy)\n",
    "        \n",
    "        return avg_loss, accuracy\n",
    "    \n",
    "    def evaluate(self, dataloader):\n",
    "        self.model.eval()\n",
    "        total_loss = 0\n",
    "        total_samples = 0\n",
    "        correct_predictions = 0\n",
    "    \n",
    "        pbar = tqdm(dataloader, desc=\"Evaluating\", leave=False)\n",
    "        \n",
    "        with torch.no_grad():\n",
    "            for data, targets in pbar:\n",
    "                data, targets = data.to(self.device), targets.to(self.device)\n",
    "                batch_size = data.size(0)\n",
    "                \n",
    "                hidden = self.model.init_hidden(batch_size, self.device)\n",
    "                outputs, _ = self.model(data, hidden)\n",
    "                loss = self.criterion(outputs, targets)\n",
    "                \n",
    "                _, predicted = torch.max(outputs.data, 1)\n",
    "                correct_predictions += (predicted == targets).sum().item()\n",
    "                \n",
    "                total_loss += loss.item() * batch_size\n",
    "                total_samples += batch_size\n",
    "                \n",
    "                current_loss = total_loss / total_samples\n",
    "                current_acc = correct_predictions / total_samples\n",
    "                pbar.set_postfix({\n",
    "                    'Loss': f'{current_loss:.4f}',\n",
    "                    'Acc': f'{current_acc:.4f}'\n",
    "                })\n",
    "        \n",
    "        avg_loss = total_loss / total_samples\n",
    "        accuracy = correct_predictions / total_samples\n",
    "\n",
    "        entropy = avg_loss / math.log(2)\n",
    "        perplexity = 2 ** entropy\n",
    "\n",
    "        return avg_loss, accuracy, perplexity\n",
    "    \n",
    "    def generate_text(self, start_text: str, max_length: int = 10, temperature: float = 1.0):\n",
    "        self.model.eval()\n",
    "        \n",
    "        indices = self.vocab.text_to_indices(start_text)\n",
    "        indices = indices[:-1]\n",
    "        if len(indices) == 0:\n",
    "            indices = [self.vocab.word2idx[self.vocab.start_token]]\n",
    "        generated = indices.copy()\n",
    "\n",
    "        end_idx = self.vocab.word2idx[self.vocab.end_token]\n",
    "\n",
    "        with torch.no_grad():\n",
    "            for _ in range(max_length-3):\n",
    "                # 準備輸入序列\n",
    "                input_seq = generated[-10:]\n",
    "                if len(input_seq) < 10:\n",
    "                    padding = [self.vocab.word2idx[self.vocab.pad_token]] * (10 - len(input_seq))\n",
    "                    input_seq = padding + input_seq\n",
    "                \n",
    "                input_tensor = torch.tensor([input_seq], dtype=torch.long).to(self.device)\n",
    "                hidden = self.model.init_hidden(1, self.device)\n",
    "                \n",
    "                outputs, _ = self.model(input_tensor, hidden)\n",
    "\n",
    "                outputs[:, end_idx] = float('-inf')\n",
    "\n",
    "                \n",
    "                outputs = outputs / temperature\n",
    "                probabilities = torch.softmax(outputs, dim=-1)\n",
    "                \n",
    "                next_word_idx = torch.multinomial(probabilities, 1).item()\n",
    "                \n",
    "                generated.append(next_word_idx)\n",
    "        \n",
    "        return self.vocab.indices_to_text(generated)\n",
    "    \n",
    "    def plot_learning_curves(self, save_path='lstm_learning_curves.png'):\n",
    "        fig, (ax1, ax2) = plt.subplots(1, 2, figsize=(15, 5))\n",
    "        \n",
    "        epochs = range(1, len(self.train_losses) + 1)\n",
    "        ax1.plot(epochs, self.train_losses, 'b-', label='Training Loss')\n",
    "        ax1.set_title('LSTM Training Loss Curve')\n",
    "        ax1.set_xlabel('Epoch')\n",
    "        ax1.set_ylabel('Loss')\n",
    "        ax1.legend()\n",
    "        ax1.grid(True)\n",
    "        \n",
    "        ax2.plot(epochs, self.train_accuracies, 'r-', label='Training Accuracy')\n",
    "        ax2.set_title('LSTM Training Accuracy Curve')\n",
    "        ax2.set_xlabel('Epoch')\n",
    "        ax2.set_ylabel('Accuracy')\n",
    "        ax2.legend()\n",
    "        ax2.grid(True)\n",
    "        \n",
    "        plt.tight_layout()\n",
    "        plt.savefig(save_path, dpi=300, bbox_inches='tight')\n",
    "        plt.show()\n",
    "        print(f\"Learning curves saved to {save_path}\")"
   ]
  },
  {
   "cell_type": "markdown",
   "id": "ff4b8aba",
   "metadata": {},
   "source": [
    "## utils"
   ]
  },
  {
   "cell_type": "code",
   "execution_count": 63,
   "id": "c371c27f",
   "metadata": {},
   "outputs": [],
   "source": [
    "def load_data(file_path: str) -> List[str]:\n",
    "    texts = []\n",
    "    with open(file_path, 'r', encoding='utf-8') as f:\n",
    "        for line in f:\n",
    "            line = line.strip()\n",
    "            if line:\n",
    "                texts.append(line)\n",
    "    \n",
    "    print(f\"Loaded {len(texts)} texts from {file_path}\")\n",
    "    return texts\n",
    "\n",
    "def evaluate_on_test_data(trainer, vocab, test_file: str, seq_length: int = 10, batch_size: int = 32):\n",
    "    print(f\"Evaluating model on {test_file}...\")\n",
    "    \n",
    "    test_texts = load_data(test_file)\n",
    "    if not test_texts:\n",
    "        return\n",
    "    \n",
    "    # 創建測試數據集\n",
    "    test_dataset = TextDataset(test_texts, vocab, seq_length)\n",
    "    test_dataloader = DataLoader(test_dataset, batch_size=batch_size, shuffle=False)\n",
    "    \n",
    "    # 評估模型\n",
    "    test_loss, test_accuracy, test_perplexity = trainer.evaluate(test_dataloader)\n",
    "    \n",
    "    print(\"\\n\" + \"=\"*60)\n",
    "    print(\"模型測試結果\")\n",
    "    print(\"=\"*60)\n",
    "    print(f\"測試損失 (Test Loss): {test_loss:.4f}\")\n",
    "    print(f\"測試準確率 (Test Accuracy): {test_accuracy:.4f} ({test_accuracy*100:.2f}%)\")\n",
    "    print(f\"測試困惑度 (Test Perplexity): {test_perplexity:.4f}\")\n",
    "    print(\"=\"*60)\n",
    "    \n",
    "    return test_loss, test_accuracy, test_perplexity\n",
    "\n",
    "def test_incomplete_sentences(trainer, incomplete_file: str):\n",
    "    print(\"Testing incomplete sentence completion...\")\n",
    "    \n",
    "    with open(incomplete_file, 'r', encoding='utf-8') as f:\n",
    "        incomplete_texts = [line.strip() for line in f if line.strip()]\n",
    "    \n",
    "    print(\"\\n\" + \"=\"*60)\n",
    "    print(\"模型文本補全結果\")\n",
    "    print(\"=\"*60)\n",
    "    \n",
    "    for incomplete_text in incomplete_texts:\n",
    "        completed = trainer.generate_text(incomplete_text, max_length=20, temperature=0.8)\n",
    "        print(f\"輸入: {incomplete_text}\")\n",
    "        print(f\"補全: {completed}\")\n",
    "        print(\"-\" * 50)"
   ]
  },
  {
   "cell_type": "markdown",
   "id": "5d1ec481",
   "metadata": {},
   "source": [
    "## RNN Training"
   ]
  },
  {
   "cell_type": "code",
   "execution_count": null,
   "id": "1b5d6b48",
   "metadata": {},
   "outputs": [
    {
     "name": "stdout",
     "output_type": "stream",
     "text": [
      "Using device: cuda\n",
      "Loaded 2599668 texts from data/train.txt\n",
      "Building vocabulary...\n",
      "Vocabulary size: 15843\n",
      "Most common words: [('and', 910902), ('the', 851351), ('in', 479094), ('a', 463682), ('to', 460822), ('with', 307128), ('until', 276529), ('add', 252377), ('minutes', 233439), ('of', 231635)]\n",
      "Preparing training sequences...\n",
      "Created 100001 training sequences\n",
      "RNNLanguageModel(\n",
      "  (embedding): Embedding(15843, 128)\n",
      "  (rnn): RNN(128, 128, num_layers=2, batch_first=True, dropout=0.2)\n",
      "  (dropout): Dropout(p=0.2, inplace=False)\n",
      "  (linear): Linear(in_features=128, out_features=15843, bias=True)\n",
      ")\n",
      "Model parameters: 4,137,699\n",
      "Starting training...\n"
     ]
    },
    {
     "name": "stderr",
     "output_type": "stream",
     "text": [
      "RNN Training Progress:  10%|█         | 1/10 [00:32<04:51, 32.40s/it, Loss=5.0936, Acc=0.2006, Time=32.4s]"
     ]
    },
    {
     "name": "stdout",
     "output_type": "stream",
     "text": [
      "Epoch 1/10, Train Loss: 5.0936, Train Accuracy: 0.2006, Time: 32.40s\n"
     ]
    },
    {
     "name": "stderr",
     "output_type": "stream",
     "text": [
      "RNN Training Progress:  20%|██        | 2/10 [01:05<04:20, 32.57s/it, Loss=4.2755, Acc=0.2648, Time=32.7s]"
     ]
    },
    {
     "name": "stdout",
     "output_type": "stream",
     "text": [
      "Epoch 2/10, Train Loss: 4.2755, Train Accuracy: 0.2648, Time: 32.69s\n"
     ]
    },
    {
     "name": "stderr",
     "output_type": "stream",
     "text": [
      "RNN Training Progress:  30%|███       | 3/10 [01:36<03:43, 31.97s/it, Loss=4.0038, Acc=0.2845, Time=31.2s]"
     ]
    },
    {
     "name": "stdout",
     "output_type": "stream",
     "text": [
      "Epoch 3/10, Train Loss: 4.0038, Train Accuracy: 0.2845, Time: 31.25s\n"
     ]
    },
    {
     "name": "stderr",
     "output_type": "stream",
     "text": [
      "RNN Training Progress:  40%|████      | 4/10 [02:08<03:12, 32.08s/it, Loss=3.8426, Acc=0.2971, Time=32.3s]"
     ]
    },
    {
     "name": "stdout",
     "output_type": "stream",
     "text": [
      "Epoch 4/10, Train Loss: 3.8426, Train Accuracy: 0.2971, Time: 32.26s\n"
     ]
    },
    {
     "name": "stderr",
     "output_type": "stream",
     "text": [
      "RNN Training Progress:  50%|█████     | 5/10 [02:41<02:41, 32.29s/it, Loss=3.7307, Acc=0.3056, Time=32.7s]"
     ]
    },
    {
     "name": "stdout",
     "output_type": "stream",
     "text": [
      "Epoch 5/10, Train Loss: 3.7307, Train Accuracy: 0.3056, Time: 32.66s\n"
     ]
    },
    {
     "name": "stderr",
     "output_type": "stream",
     "text": [
      "RNN Training Progress:  60%|██████    | 6/10 [03:12<02:07, 31.87s/it, Loss=3.6398, Acc=0.3121, Time=31.0s]"
     ]
    },
    {
     "name": "stdout",
     "output_type": "stream",
     "text": [
      "Epoch 6/10, Train Loss: 3.6398, Train Accuracy: 0.3121, Time: 31.04s\n"
     ]
    },
    {
     "name": "stderr",
     "output_type": "stream",
     "text": [
      "RNN Training Progress:  70%|███████   | 7/10 [03:42<01:34, 31.41s/it, Loss=3.5675, Acc=0.3167, Time=30.5s]"
     ]
    },
    {
     "name": "stdout",
     "output_type": "stream",
     "text": [
      "Epoch 7/10, Train Loss: 3.5675, Train Accuracy: 0.3167, Time: 30.47s\n"
     ]
    },
    {
     "name": "stderr",
     "output_type": "stream",
     "text": [
      "RNN Training Progress:  80%|████████  | 8/10 [04:11<01:01, 30.61s/it, Loss=3.5047, Acc=0.3222, Time=28.9s]"
     ]
    },
    {
     "name": "stdout",
     "output_type": "stream",
     "text": [
      "Epoch 8/10, Train Loss: 3.5047, Train Accuracy: 0.3222, Time: 28.89s\n"
     ]
    },
    {
     "name": "stderr",
     "output_type": "stream",
     "text": [
      "RNN Training Progress:  90%|█████████ | 9/10 [04:43<00:31, 31.08s/it, Loss=3.4566, Acc=0.3258, Time=32.1s]"
     ]
    },
    {
     "name": "stdout",
     "output_type": "stream",
     "text": [
      "Epoch 9/10, Train Loss: 3.4566, Train Accuracy: 0.3258, Time: 32.12s\n"
     ]
    },
    {
     "name": "stderr",
     "output_type": "stream",
     "text": [
      "RNN Training Progress: 100%|██████████| 10/10 [05:15<00:00, 31.59s/it, Loss=3.4101, Acc=0.3317, Time=32.1s]\n"
     ]
    },
    {
     "name": "stdout",
     "output_type": "stream",
     "text": [
      "Epoch 10/10, Train Loss: 3.4101, Train Accuracy: 0.3317, Time: 32.15s\n",
      "Model saved to rnn_model.pth\n"
     ]
    }
   ],
   "source": [
    "device = torch.device('cuda' if torch.cuda.is_available() else 'cpu')\n",
    "print(f\"Using device: {device}\")\n",
    "\n",
    "# Hyperparameters\n",
    "HIDDEN_DIM = 128\n",
    "NUM_LAYERS = 2\n",
    "LEARNING_RATE = 0.001\n",
    "NUM_EPOCHS = 10\n",
    "BATCH_SIZE = 32\n",
    "SEQ_LENGTH = 10\n",
    "\n",
    "train_texts = load_data('data/train.txt')\n",
    "\n",
    "vocab = Vocabulary()\n",
    "vocab.build_vocab(train_texts, min_freq=3)\n",
    "\n",
    "train_dataset = TextDataset(train_texts, vocab, SEQ_LENGTH)\n",
    "train_dataloader = DataLoader(train_dataset, batch_size=BATCH_SIZE, shuffle=True)\n",
    "\n",
    "model = RNNLanguageModel(\n",
    "    vocab_size=len(vocab),\n",
    "    embed_dim=HIDDEN_DIM,\n",
    "    hidden_dim=HIDDEN_DIM,\n",
    "    num_layers=NUM_LAYERS\n",
    ").to(device)\n",
    "\n",
    "print(model)\n",
    "\n",
    "print(f\"Model parameters: {sum(p.numel() for p in model.parameters()):,}\")\n",
    "\n",
    "trainer = RNNTrainer(model, vocab, device, LEARNING_RATE)\n",
    "\n",
    "print(\"Starting training...\")\n",
    "\n",
    "epoch_pbar = tqdm(range(NUM_EPOCHS), desc=\"RNN Training Progress\")\n",
    "\n",
    "for epoch in epoch_pbar:\n",
    "    start_time = time.time()\n",
    "    \n",
    "    train_loss, train_accuracy = trainer.train_epoch(train_dataloader)\n",
    "    \n",
    "    epoch_time = time.time() - start_time\n",
    "    \n",
    "    epoch_pbar.set_postfix({\n",
    "        'Loss': f'{train_loss:.4f}',\n",
    "        'Acc': f'{train_accuracy:.4f}',\n",
    "        'Time': f'{epoch_time:.1f}s'\n",
    "    })\n",
    "    \n",
    "    print(f'Epoch {epoch+1}/{NUM_EPOCHS}, Train Loss: {train_loss:.4f}, Train Accuracy: {train_accuracy:.4f}, Time: {epoch_time:.2f}s')\n",
    "\n",
    "torch.save({\n",
    "    'model_state_dict': model.state_dict(),\n",
    "    'vocab': vocab,\n",
    "    'hyperparameters': {\n",
    "        'vocab_size': len(vocab),\n",
    "        'embed_dim': HIDDEN_DIM,\n",
    "        'hidden_dim': HIDDEN_DIM,\n",
    "        'num_layers': NUM_LAYERS\n",
    "    }\n",
    "}, 'rnn_model.pth')\n",
    "\n",
    "print(\"Model saved to rnn_model.pth\")"
   ]
  },
  {
   "cell_type": "code",
   "execution_count": 65,
   "id": "148dced0",
   "metadata": {},
   "outputs": [
    {
     "data": {
      "image/png": "[encoded data removed]",
      "text/plain": [
       "<Figure size 1500x500 with 2 Axes>"
      ]
     },
     "metadata": {},
     "output_type": "display_data"
    },
    {
     "name": "stdout",
     "output_type": "stream",
     "text": [
      "Learning curves saved to rnn_learning_curves.png\n"
     ]
    }
   ],
   "source": [
    "# plot learning curves\n",
    "trainer.plot_learning_curves('rnn_learning_curves.png')"
   ]
  },
  {
   "cell_type": "code",
   "execution_count": 66,
   "id": "7191cb0c",
   "metadata": {},
   "outputs": [
    {
     "name": "stdout",
     "output_type": "stream",
     "text": [
      "Evaluating model on data/test.txt...\n",
      "Loaded 649918 texts from data/test.txt\n",
      "Preparing training sequences...\n",
      "Created 100023 training sequences\n"
     ]
    },
    {
     "name": "stderr",
     "output_type": "stream",
     "text": [
      "                                                                                         \r"
     ]
    },
    {
     "name": "stdout",
     "output_type": "stream",
     "text": [
      "\n",
      "============================================================\n",
      "模型測試結果\n",
      "============================================================\n",
      "測試損失 (Test Loss): 4.1876\n",
      "測試準確率 (Test Accuracy): 0.2950 (29.50%)\n",
      "測試困惑度 (Test Perplexity): 65.8666\n",
      "============================================================\n"
     ]
    },
    {
     "data": {
      "text/plain": [
       "(4.187630891301747, 0.29498215410455597, 65.86656092809925)"
      ]
     },
     "execution_count": 66,
     "metadata": {},
     "output_type": "execute_result"
    }
   ],
   "source": [
    "# evaluate on test data\n",
    "evaluate_on_test_data(trainer, vocab, 'data/test.txt', SEQ_LENGTH, BATCH_SIZE)"
   ]
  },
  {
   "cell_type": "code",
   "execution_count": 67,
   "id": "536099fe",
   "metadata": {},
   "outputs": [
    {
     "name": "stdout",
     "output_type": "stream",
     "text": [
      "Testing incomplete sentence completion...\n",
      "\n",
      "============================================================\n",
      "模型文本補全結果\n",
      "============================================================\n",
      "輸入: cover with\n",
      "補全: cover with grated spatula and mix it according to go to coat well and set aside heat to medium\n",
      "--------------------------------------------------\n",
      "輸入: roll up\n",
      "補全: roll up the inside of the tomato paste and roll with dill and beat slowly just until it is\n",
      "--------------------------------------------------\n",
      "輸入: cook the\n",
      "補全: cook the carrots for 1 minute or until cooked through and bubbly longer are tender when needed and serve\n",
      "--------------------------------------------------\n",
      "輸入: stir in\n",
      "補全: stir in pineapple and vanilla and chop well if you like a consistency to fill a little vegetable oil\n",
      "--------------------------------------------------\n",
      "輸入: spread out\n",
      "補全: spread out evenly over the pineapple and 1 4 cup of the sauce on the side of the steaks\n",
      "--------------------------------------------------\n",
      "輸入: transfer the\n",
      "補全: transfer the lid to a pliable pan with nonstick cooking spray or pan in the oven and salted water\n",
      "--------------------------------------------------\n",
      "輸入: put the\n",
      "補全: put the beans in the same skillet over medium high heat for 20 minutes or until the chocolate is\n",
      "--------------------------------------------------\n",
      "輸入: push the\n",
      "補全: push the chicken and stir fry over pasta heat and stir until smooth and elastic and storage bag for\n",
      "--------------------------------------------------\n",
      "輸入: cut into\n",
      "補全: cut into medium sized pieces and drain and discard milk and sugar if desired and continue to golden the\n",
      "--------------------------------------------------\n",
      "輸入: toss the\n",
      "補全: toss the pasta and seasonings and bring to a boil for one hour or so until brown are done\n",
      "--------------------------------------------------\n"
     ]
    }
   ],
   "source": [
    "# test incomplete sentences\n",
    "test_incomplete_sentences(trainer, 'data/incomplete.txt')"
   ]
  },
  {
   "cell_type": "markdown",
   "id": "39b681ed",
   "metadata": {},
   "source": [
    "## LSTM Training"
   ]
  },
  {
   "cell_type": "code",
   "execution_count": null,
   "id": "97008c2f",
   "metadata": {},
   "outputs": [
    {
     "name": "stdout",
     "output_type": "stream",
     "text": [
      "Using device: cuda\n",
      "Loaded 2599668 texts from data/train.txt\n",
      "Building vocabulary...\n",
      "Vocabulary size: 15843\n",
      "Most common words: [('and', 910902), ('the', 851351), ('in', 479094), ('a', 463682), ('to', 460822), ('with', 307128), ('until', 276529), ('add', 252377), ('minutes', 233439), ('of', 231635)]\n",
      "Preparing training sequences...\n",
      "Created 100001 training sequences\n",
      "LSTMLanguageModel(\n",
      "  (embedding): Embedding(15843, 128)\n",
      "  (lstm): LSTM(128, 128, num_layers=2, batch_first=True, dropout=0.2)\n",
      "  (dropout): Dropout(p=0.2, inplace=False)\n",
      "  (linear): Linear(in_features=128, out_features=15843, bias=True)\n",
      ")\n",
      "Model parameters: 4,335,843\n",
      "Starting training...\n"
     ]
    },
    {
     "name": "stderr",
     "output_type": "stream",
     "text": [
      "LSTM Training Progress:  10%|█         | 1/10 [00:30<04:38, 30.90s/it, Loss=5.3712, Acc=0.1689, Time=30.9s]"
     ]
    },
    {
     "name": "stdout",
     "output_type": "stream",
     "text": [
      "Epoch 1/10, Train Loss: 5.3712, Train Accuracy: 0.1689, Time: 30.90s\n"
     ]
    },
    {
     "name": "stderr",
     "output_type": "stream",
     "text": [
      "LSTM Training Progress:  20%|██        | 2/10 [01:05<04:23, 32.99s/it, Loss=4.6369, Acc=0.2201, Time=34.4s]"
     ]
    },
    {
     "name": "stdout",
     "output_type": "stream",
     "text": [
      "Epoch 2/10, Train Loss: 4.6369, Train Accuracy: 0.2201, Time: 34.45s\n"
     ]
    },
    {
     "name": "stderr",
     "output_type": "stream",
     "text": [
      "LSTM Training Progress:  30%|███       | 3/10 [01:40<03:59, 34.16s/it, Loss=4.2796, Acc=0.2500, Time=35.6s]"
     ]
    },
    {
     "name": "stdout",
     "output_type": "stream",
     "text": [
      "Epoch 3/10, Train Loss: 4.2796, Train Accuracy: 0.2500, Time: 35.56s\n"
     ]
    },
    {
     "name": "stderr",
     "output_type": "stream",
     "text": [
      "LSTM Training Progress:  40%|████      | 4/10 [02:13<03:22, 33.67s/it, Loss=4.0369, Acc=0.2724, Time=32.9s]"
     ]
    },
    {
     "name": "stdout",
     "output_type": "stream",
     "text": [
      "Epoch 4/10, Train Loss: 4.0369, Train Accuracy: 0.2724, Time: 32.91s\n"
     ]
    },
    {
     "name": "stderr",
     "output_type": "stream",
     "text": [
      "LSTM Training Progress:  50%|█████     | 5/10 [02:46<02:46, 33.32s/it, Loss=3.8690, Acc=0.2861, Time=32.7s]"
     ]
    },
    {
     "name": "stdout",
     "output_type": "stream",
     "text": [
      "Epoch 5/10, Train Loss: 3.8690, Train Accuracy: 0.2861, Time: 32.69s\n"
     ]
    },
    {
     "name": "stderr",
     "output_type": "stream",
     "text": [
      "LSTM Training Progress:  60%|██████    | 6/10 [03:16<02:08, 32.06s/it, Loss=3.7370, Acc=0.2974, Time=29.6s]"
     ]
    },
    {
     "name": "stdout",
     "output_type": "stream",
     "text": [
      "Epoch 6/10, Train Loss: 3.7370, Train Accuracy: 0.2974, Time: 29.61s\n"
     ]
    },
    {
     "name": "stderr",
     "output_type": "stream",
     "text": [
      "LSTM Training Progress:  70%|███████   | 7/10 [03:48<01:36, 32.06s/it, Loss=3.6327, Acc=0.3060, Time=32.1s]"
     ]
    },
    {
     "name": "stdout",
     "output_type": "stream",
     "text": [
      "Epoch 7/10, Train Loss: 3.6327, Train Accuracy: 0.3060, Time: 32.08s\n"
     ]
    },
    {
     "name": "stderr",
     "output_type": "stream",
     "text": [
      "LSTM Training Progress:  80%|████████  | 8/10 [04:22<01:05, 32.72s/it, Loss=3.5424, Acc=0.3129, Time=34.1s]"
     ]
    },
    {
     "name": "stdout",
     "output_type": "stream",
     "text": [
      "Epoch 8/10, Train Loss: 3.5424, Train Accuracy: 0.3129, Time: 34.11s\n"
     ]
    },
    {
     "name": "stderr",
     "output_type": "stream",
     "text": [
      "LSTM Training Progress:  90%|█████████ | 9/10 [04:53<00:32, 32.31s/it, Loss=3.4679, Acc=0.3187, Time=31.4s]"
     ]
    },
    {
     "name": "stdout",
     "output_type": "stream",
     "text": [
      "Epoch 9/10, Train Loss: 3.4679, Train Accuracy: 0.3187, Time: 31.42s\n"
     ]
    },
    {
     "name": "stderr",
     "output_type": "stream",
     "text": [
      "LSTM Training Progress: 100%|██████████| 10/10 [05:27<00:00, 32.76s/it, Loss=3.3981, Acc=0.3249, Time=33.9s]\n"
     ]
    },
    {
     "name": "stdout",
     "output_type": "stream",
     "text": [
      "Epoch 10/10, Train Loss: 3.3981, Train Accuracy: 0.3249, Time: 33.87s\n",
      "Model saved to lstm_model.pth\n"
     ]
    }
   ],
   "source": [
    "device = torch.device('cuda' if torch.cuda.is_available() else 'cpu')\n",
    "print(f\"Using device: {device}\")\n",
    "\n",
    "# 超參數\n",
    "HIDDEN_DIM = 128\n",
    "NUM_LAYERS = 2\n",
    "LEARNING_RATE = 0.001\n",
    "NUM_EPOCHS = 10\n",
    "BATCH_SIZE = 32\n",
    "SEQ_LENGTH = 10\n",
    "\n",
    "train_texts = load_data('data/train.txt')\n",
    "\n",
    "vocab = Vocabulary()\n",
    "vocab.build_vocab(train_texts, min_freq=3)\n",
    "\n",
    "train_dataset = TextDataset(train_texts, vocab, SEQ_LENGTH)\n",
    "train_dataloader = DataLoader(train_dataset, batch_size=BATCH_SIZE, shuffle=True)\n",
    "\n",
    "model = LSTMLanguageModel(\n",
    "    vocab_size=len(vocab),\n",
    "    embed_dim=HIDDEN_DIM,\n",
    "    hidden_dim=HIDDEN_DIM,\n",
    "    num_layers=NUM_LAYERS\n",
    ").to(device)\n",
    "\n",
    "print(model)\n",
    "\n",
    "print(f\"Model parameters: {sum(p.numel() for p in model.parameters()):,}\")\n",
    "\n",
    "trainer = LSTMTrainer(model, vocab, device)\n",
    "\n",
    "print(\"Starting training...\")\n",
    "\n",
    "epoch_pbar = tqdm(range(NUM_EPOCHS), desc=\"LSTM Training Progress\")\n",
    "\n",
    "for epoch in epoch_pbar:\n",
    "    start_time = time.time()\n",
    "    \n",
    "    train_loss, train_accuracy = trainer.train_epoch(train_dataloader)\n",
    "    \n",
    "    epoch_time = time.time() - start_time\n",
    "    \n",
    "    epoch_pbar.set_postfix({\n",
    "        'Loss': f'{train_loss:.4f}',\n",
    "        'Acc': f'{train_accuracy:.4f}',\n",
    "        'Time': f'{epoch_time:.1f}s'\n",
    "    })\n",
    "    \n",
    "    print(f'Epoch {epoch+1}/{NUM_EPOCHS}, Train Loss: {train_loss:.4f}, Train Accuracy: {train_accuracy:.4f}, Time: {epoch_time:.2f}s')\n",
    "    \n",
    "\n",
    "torch.save({\n",
    "    'model_state_dict': model.state_dict(),\n",
    "    'vocab': vocab,\n",
    "    'hyperparameters': {\n",
    "        'vocab_size': len(vocab),\n",
    "        'embed_dim': HIDDEN_DIM,\n",
    "        'hidden_dim': HIDDEN_DIM,\n",
    "        'num_layers': NUM_LAYERS\n",
    "    }\n",
    "}, 'lstm_model.pth')\n",
    "\n",
    "print(\"Model saved to lstm_model.pth\")"
   ]
  },
  {
   "cell_type": "code",
   "execution_count": null,
   "id": "3ef5af1e",
   "metadata": {},
   "outputs": [
    {
     "data": {
      "image/png": "[encoded data removed]",
      "text/plain": [
       "<Figure size 1500x500 with 2 Axes>"
      ]
     },
     "metadata": {},
     "output_type": "display_data"
    },
    {
     "name": "stdout",
     "output_type": "stream",
     "text": [
      "Learning curves saved to lstm_learning_curves.png\n"
     ]
    }
   ],
   "source": [
    "trainer.plot_learning_curves('lstm_learning_curves.png')"
   ]
  },
  {
   "cell_type": "code",
   "execution_count": null,
   "id": "1bfd16ee",
   "metadata": {},
   "outputs": [
    {
     "name": "stdout",
     "output_type": "stream",
     "text": [
      "Evaluating model on data/test.txt...\n",
      "Loaded 649918 texts from data/test.txt\n",
      "Preparing training sequences...\n",
      "Created 100023 training sequences\n"
     ]
    },
    {
     "name": "stderr",
     "output_type": "stream",
     "text": [
      "                                                                                         \r"
     ]
    },
    {
     "name": "stdout",
     "output_type": "stream",
     "text": [
      "\n",
      "============================================================\n",
      "模型測試結果\n",
      "============================================================\n",
      "測試損失 (Test Loss): 4.1326\n",
      "測試準確率 (Test Accuracy): 0.3080 (30.80%)\n",
      "測試困惑度 (Test Perplexity): 62.3396\n",
      "============================================================\n"
     ]
    },
    {
     "data": {
      "text/plain": [
       "(4.132597451108813, 0.3079891624926267, 62.33963698087523)"
      ]
     },
     "execution_count": 70,
     "metadata": {},
     "output_type": "execute_result"
    }
   ],
   "source": [
    "evaluate_on_test_data(trainer, vocab, 'data/test.txt', SEQ_LENGTH, BATCH_SIZE)"
   ]
  },
  {
   "cell_type": "code",
   "execution_count": null,
   "id": "30642d20",
   "metadata": {},
   "outputs": [
    {
     "name": "stdout",
     "output_type": "stream",
     "text": [
      "Testing incomplete sentence completion...\n",
      "\n",
      "============================================================\n",
      "模型文本補全結果\n",
      "============================================================\n",
      "輸入: cover with\n",
      "補全: cover with aluminum foil and cool completely until golden brown and foamy on top of the tomato sauce with\n",
      "--------------------------------------------------\n",
      "輸入: roll up\n",
      "補全: roll up remaining slices and drop into a fork and place the lid on each side of the other\n",
      "--------------------------------------------------\n",
      "輸入: cook the\n",
      "補全: cook the onions to a simmer for 15 minutes before serving lightly together or top with the remaining ingredients\n",
      "--------------------------------------------------\n",
      "輸入: stir in\n",
      "補全: stir in flour mixture and mixer until smooth peaks form and touch but not not to burn it and\n",
      "--------------------------------------------------\n",
      "輸入: spread out\n",
      "補全: spread out of the butter and blend until smooth peaks form and the peppers are very tender and the\n",
      "--------------------------------------------------\n",
      "輸入: transfer the\n",
      "補全: transfer the sugar to a 350 rack to boil until the rest of the cooked melted to the casserole\n",
      "--------------------------------------------------\n",
      "輸入: put the\n",
      "補全: put the piece of a large metal square jelly bag to boiling hot the potatoes start over the tomatoes\n",
      "--------------------------------------------------\n",
      "輸入: push the\n",
      "補全: push the topping into a bottom of 9x13 inch baking dish roll with a non <UNK> cake in centre\n",
      "--------------------------------------------------\n",
      "輸入: cut into\n",
      "補全: cut into cutting pieces and transfer them to a greased saucepan over high heat and stir to low well\n",
      "--------------------------------------------------\n",
      "輸入: toss the\n",
      "補全: toss the mixture with 1 topping of water in the back to the refrigerator completely and cook 10 minutes\n",
      "--------------------------------------------------\n"
     ]
    }
   ],
   "source": [
    "test_incomplete_sentences(trainer, 'data/incomplete.txt')"
   ]
  },
  {
   "cell_type": "markdown",
   "id": "fc570e7b",
   "metadata": {},
   "source": [
    "### Question: Analyze and compare the differences among the n-gram model, the RNN model, and the LSTM model, including the hardware resources required for their operations, the computation time taken for training, and the results of perplexity and accuracy.\n",
    "Ans: The n-gram, RNN, and LSTM models differ significantly in how they model language dependencies, as well as in their computational requirements and performance.\n",
    "\n",
    "1. Model Characteristics\n",
    "\t•\tN-gram Model:\n",
    "The n-gram model relies on fixed-length context windows, assuming that the next word depends only on the previous n-1 words. It is simple and efficient but suffers from data sparsity and cannot capture long-term dependencies.\n",
    "\t•\tRNN Model:\n",
    "The Recurrent Neural Network introduces recurrence, allowing information from previous time steps to influence future predictions. It can theoretically model longer sequences than n-grams, but in practice, it struggles with vanishing or exploding gradients, which limits its ability to remember long contexts.\n",
    "\t•\tLSTM Model:\n",
    "The Long Short-Term Memory (LSTM) improves upon RNNs by introducing gating mechanisms (input, forget, and output gates) that help preserve information over long sequences. This enables it to effectively capture both short- and long-term dependencies.\n",
    "\n",
    "2. Hardware Resources\n",
    "\t•\tN-gram: Requires minimal hardware resources (CPU-friendly) and memory only for storing word counts and probability tables.\n",
    "\t•\tRNN: Needs more memory and GPU support for efficient matrix operations, as it involves backpropagation through time (BPTT).\n",
    "\t•\tLSTM: Demands the most computational resources among the three due to additional gate parameters and more complex gradient updates. It typically benefits greatly from GPU acceleration.\n",
    "\n",
    "3. Computation Time\n",
    "\t•\tN-gram: Fast to train since it only involves counting occurrences.\n",
    "\t•\tRNN: Training is slower because gradients must be propagated through multiple time steps.\n",
    "\t•\tLSTM: Even slower than RNN due to the extra gate computations, but usually converges in fewer epochs because of its stability.\n",
    "\n",
    "4. Perplexity and Accuracy\n",
    "\t•\tN-gram: Produces relatively high perplexity and low accuracy because it cannot handle unseen n-grams or long dependencies.\n",
    "\t•\tRNN: Achieves lower perplexity and higher accuracy than n-gram by modeling sequential context.\n",
    "\t•\tLSTM: Generally achieves the best performance among the three, showing the lowest perplexity and highest accuracy due to its ability to retain long-term information.\n"
   ]
  }
 ],
 "metadata": {
  "kernelspec": {
   "display_name": "LLM",
   "language": "python",
   "name": "python3"
  },
  "language_info": {
   "codemirror_mode": {
    "name": "ipython",
    "version": 3
   },
   "file_extension": ".py",
   "mimetype": "text/x-python",
   "name": "python",
   "nbconvert_exporter": "python",
   "pygments_lexer": "ipython3",
   "version": "3.11.7"
  }
 },
 "nbformat": 4,
 "nbformat_minor": 5
}
